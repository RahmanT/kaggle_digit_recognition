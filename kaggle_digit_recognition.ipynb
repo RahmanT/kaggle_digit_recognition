{
 "cells": [
  {
   "cell_type": "code",
   "execution_count": 1,
   "metadata": {},
   "outputs": [],
   "source": [
    "import numpy as np # we need it because we will load pixels as well as labels as arraes this array will be passed to our training model\n",
    "import pandas as pd #this library is used to read the training and test data set which is in case two CSV files \n",
    "import matplotlib.pyplot as plt # i have to know my dataset better so this library helps me to visualize it\n",
    "import tensorflow as tf#the mind of my friend\n",
    "from tensorflow import keras#the body of my intelegent friend\n"
   ]
  },
  {
   "cell_type": "code",
   "execution_count": 2,
   "metadata": {},
   "outputs": [
    {
     "name": "stderr",
     "output_type": "stream",
     "text": [
      "c:\\users\\rahman\\appdata\\local\\programs\\python\\python36\\lib\\site-packages\\ipykernel_launcher.py:1: FutureWarning: Method .as_matrix will be removed in a future version. Use .values instead.\n",
      "  \"\"\"Entry point for launching an IPython kernel.\n"
     ]
    }
   ],
   "source": [
    "readtrain = pd.read_csv(\"train.csv\") .as_matrix()#here we read the training data set, its better to have it as a matrix "
   ]
  },
  {
   "cell_type": "code",
   "execution_count": 3,
   "metadata": {},
   "outputs": [],
   "source": [
    "my_train=readtrain[0:37000,1:] #it will load column 1 to the end for each row in matrix as array, 784 pixel\n",
    "my_label=readtrain[0:37000,0]# the index 0 of this matrix is used to store label of a digit , the label will be 0 to 9\n",
    "\n",
    "test= readtrain[37000:,1:]#from 31000 to 42000\n",
    "test_label=readtrain[37000:,0]#labels from 31000 to 42000"
   ]
  },
  {
   "cell_type": "code",
   "execution_count": 4,
   "metadata": {},
   "outputs": [],
   "source": [
    "my_train = my_train.reshape(-1,28,28)#reshape into 3_dimentional array\n",
    "test=test.reshape(-1,28,28)#the same as abov ;) but for test set"
   ]
  },
  {
   "cell_type": "code",
   "execution_count": 46,
   "metadata": {},
   "outputs": [
    {
     "data": {
      "text/plain": [
       "(37000, 28, 28)"
      ]
     },
     "execution_count": 46,
     "metadata": {},
     "output_type": "execute_result"
    }
   ],
   "source": [
    "my_train.shape#is it working well?"
   ]
  },
  {
   "cell_type": "code",
   "execution_count": 5,
   "metadata": {},
   "outputs": [],
   "source": [
    "my_train = tf.keras.utils.normalize(my_train, axis=1)#the numbers are between 255 and 0, but we need 0 to 1 , why?\n",
    "\n",
    "test = tf.keras.utils.normalize(test, axis=1)#he same as abov ;) but for test set"
   ]
  },
  {
   "cell_type": "code",
   "execution_count": 22,
   "metadata": {},
   "outputs": [
    {
     "name": "stdout",
     "output_type": "stream",
     "text": [
      "Epoch 1/10\n",
      "37000/37000 [==============================] - 11s 285us/step - loss: 0.3482 - acc: 0.8932\n",
      "Epoch 2/10\n",
      "37000/37000 [==============================] - 10s 261us/step - loss: 0.1258 - acc: 0.9615\n",
      "Epoch 3/10\n",
      "37000/37000 [==============================] - 10s 272us/step - loss: 0.0830 - acc: 0.9743\n",
      "Epoch 4/10\n",
      "37000/37000 [==============================] - 10s 262us/step - loss: 0.0542 - acc: 0.9821\n",
      "Epoch 5/10\n",
      "37000/37000 [==============================] - 10s 262us/step - loss: 0.0443 - acc: 0.9865\n",
      "Epoch 6/10\n",
      "37000/37000 [==============================] - 10s 264us/step - loss: 0.0369 - acc: 0.9878\n",
      "Epoch 7/10\n",
      "37000/37000 [==============================] - 10s 261us/step - loss: 0.0270 - acc: 0.9908\n",
      "Epoch 8/10\n",
      "37000/37000 [==============================] - 10s 275us/step - loss: 0.0274 - acc: 0.9912\n",
      "Epoch 9/10\n",
      "37000/37000 [==============================] - 10s 271us/step - loss: 0.0210 - acc: 0.9933\n",
      "Epoch 10/10\n",
      "37000/37000 [==============================] - 10s 268us/step - loss: 0.0213 - acc: 0.9932\n"
     ]
    },
    {
     "data": {
      "text/plain": [
       "<tensorflow.python.keras.callbacks.History at 0x2a6c37fe470>"
      ]
     },
     "execution_count": 22,
     "metadata": {},
     "output_type": "execute_result"
    }
   ],
   "source": [
    "#the simple model with many usles layer ;)\n",
    "model3 = keras.Sequential([\n",
    "    keras.layers.Flatten(input_shape=(28, 28)),\n",
    "    keras.layers.Dense(392, activation=tf.nn.relu),\n",
    "    keras.layers.Dense(196, activation=tf.nn.relu),\n",
    "    keras.layers.Dense(98, activation=tf.nn.relu),\n",
    "    keras.layers.Dense(49, activation=tf.nn.relu),\n",
    "    keras.layers.Dense(25, activation=tf.nn.relu),\n",
    "    keras.layers.Dense(10, activation=tf.nn.softmax)\n",
    "])\n",
    "#just compile and optimize\n",
    "model3.compile(optimizer='adam', \n",
    "              loss='sparse_categorical_crossentropy',\n",
    "              metrics=['accuracy'])\n",
    "#defining bachsize is somehow tricky smaller bach size make the training longer but more accurate(maybe!) \n",
    "model3.fit(my_train,my_label,batch_size=64, epochs=10)"
   ]
  },
  {
   "cell_type": "code",
   "execution_count": 23,
   "metadata": {},
   "outputs": [
    {
     "name": "stdout",
     "output_type": "stream",
     "text": [
      "5000/5000 [==============================] - 1s 172us/step\n",
      "0.12865499990344398\n",
      "0.9714\n"
     ]
    }
   ],
   "source": [
    "#here we can test on a part of dataset which were not envolved in training session\n",
    "val_loss, val_acc = model3.evaluate(test, test_label)\n",
    "print(val_loss)\n",
    "print(val_acc)"
   ]
  },
  {
   "cell_type": "code",
   "execution_count": 24,
   "metadata": {},
   "outputs": [
    {
     "data": {
      "text/plain": [
       "(1, 28, 28)"
      ]
     },
     "execution_count": 24,
     "metadata": {},
     "output_type": "execute_result"
    }
   ],
   "source": [
    "\"\"\"incase of testing in human understandable(what a word!) form, lest see if the prediction is correct in real challenge :D, i have to add an extra dimention \n",
    "to the test set so the model will understand it that way.\n",
    "\"\"\"\n",
    "from numpy import zeros, newaxis\n",
    "b=test[:,newaxis,:,:]\n",
    "b[2].shape"
   ]
  },
  {
   "cell_type": "code",
   "execution_count": 26,
   "metadata": {},
   "outputs": [
    {
     "name": "stdout",
     "output_type": "stream",
     "text": [
      "the predicted label is :  9\n"
     ]
    },
    {
     "data": {
      "image/png": "[encoded data removed]",
      "text/plain": [
       "<Figure size 432x288 with 1 Axes>"
      ]
     },
     "metadata": {
      "needs_background": "light"
     },
     "output_type": "display_data"
    },
    {
     "name": "stdout",
     "output_type": "stream",
     "text": [
      "the currect label is : 9\n"
     ]
    }
   ],
   "source": [
    "#challenge time UUU ha ha ha \n",
    "a=77\n",
    "predictions_single = model3.predict(b[a])\n",
    "#print(predictions_single)\n",
    "prd=np.argmax(predictions_single)\n",
    "print(\"the predicted label is : \",prd)\n",
    "plt.imshow(test[a],cmap=plt.cm.binary)\n",
    "plt.show()\n",
    "print (\"the currect label is :\", test_label[a])\n",
    "#laugh on wate(dont minde its a persian idiom its jus nonesence )"
   ]
  },
  {
   "cell_type": "code",
   "execution_count": 27,
   "metadata": {},
   "outputs": [],
   "source": [
    "model3.save('kaggle_digit_recognize3.model')\n"
   ]
  },
  {
   "cell_type": "code",
   "execution_count": null,
   "metadata": {},
   "outputs": [],
   "source": []
  }
 ],
 "metadata": {
  "kernelspec": {
   "display_name": "Python 3",
   "language": "python",
   "name": "python3"
  },
  "language_info": {
   "codemirror_mode": {
    "name": "ipython",
    "version": 3
   },
   "file_extension": ".py",
   "mimetype": "text/x-python",
   "name": "python",
   "nbconvert_exporter": "python",
   "pygments_lexer": "ipython3",
   "version": "3.6.0"
  }
 },
 "nbformat": 4,
 "nbformat_minor": 2
}
